{
 "cells": [
  {
   "cell_type": "code",
   "execution_count": 21,
   "metadata": {},
   "outputs": [
    {
     "name": "stderr",
     "output_type": "stream",
     "text": [
      "ERROR: Could not find a version that satisfies the requirement urllib (from versions: none)\n",
      "ERROR: No matching distribution found for urllib\n"
     ]
    }
   ],
   "source": [
    "!pip install urllib"
   ]
  },
  {
   "cell_type": "code",
   "execution_count": 22,
   "metadata": {},
   "outputs": [
    {
     "ename": "ImportError",
     "evalue": "cannot import name 'FancyURLopener' from 'urllib' (C:\\Users\\Utilisateur\\Anaconda3\\envs\\deeplearning\\lib\\urllib\\__init__.py)",
     "output_type": "error",
     "traceback": [
      "\u001b[1;31m---------------------------------------------------------------------------\u001b[0m",
      "\u001b[1;31mImportError\u001b[0m                               Traceback (most recent call last)",
      "\u001b[1;32m<ipython-input-22-4776f4e63d4c>\u001b[0m in \u001b[0;36m<module>\u001b[1;34m\u001b[0m\n\u001b[0;32m      2\u001b[0m \u001b[1;32mimport\u001b[0m \u001b[0msys\u001b[0m\u001b[1;33m\u001b[0m\u001b[1;33m\u001b[0m\u001b[0m\n\u001b[0;32m      3\u001b[0m \u001b[1;32mimport\u001b[0m \u001b[0mtime\u001b[0m\u001b[1;33m\u001b[0m\u001b[1;33m\u001b[0m\u001b[0m\n\u001b[1;32m----> 4\u001b[1;33m \u001b[1;32mfrom\u001b[0m \u001b[0murllib\u001b[0m \u001b[1;32mimport\u001b[0m \u001b[0mFancyURLopener\u001b[0m\u001b[1;33m\u001b[0m\u001b[1;33m\u001b[0m\u001b[0m\n\u001b[0m\u001b[0;32m      5\u001b[0m \u001b[1;32mimport\u001b[0m \u001b[0murllib2\u001b[0m\u001b[1;33m\u001b[0m\u001b[1;33m\u001b[0m\u001b[0m\n\u001b[0;32m      6\u001b[0m \u001b[1;32mimport\u001b[0m \u001b[0msimplejson\u001b[0m\u001b[1;33m\u001b[0m\u001b[1;33m\u001b[0m\u001b[0m\n",
      "\u001b[1;31mImportError\u001b[0m: cannot import name 'FancyURLopener' from 'urllib' (C:\\Users\\Utilisateur\\Anaconda3\\envs\\deeplearning\\lib\\urllib\\__init__.py)"
     ]
    }
   ],
   "source": [
    "import os\n",
    "import sys\n",
    "import time\n",
    "from urllib import FancyURLopener\n",
    "import urllib2\n",
    "import simplejson"
   ]
  },
  {
   "cell_type": "code",
   "execution_count": null,
   "metadata": {},
   "outputs": [],
   "source": [
    "\n",
    "\n",
    "# Define search term\n",
    "searchTerm = \"hello world\"\n",
    "\n",
    "# Replace spaces ' ' in search term for '%20' in order to comply with request\n",
    "searchTerm = searchTerm.replace(' ','%20')\n",
    "\n",
    "\n",
    "# Start FancyURLopener with defined version \n",
    "class MyOpener(FancyURLopener): \n",
    "    version = 'Mozilla/5.0 (Windows; U; Windows NT 5.1; it; rv:1.8.1.11) Gecko/20071127 Firefox/2.0.0.11'\n",
    "myopener = MyOpener()\n",
    "\n",
    "# Set count to 0\n",
    "count= 0\n",
    "\n",
    "for i in range(0,10):\n",
    "    # Notice that the start changes for each iteration in order to request a new set of images for each loop\n",
    "    url = ('https://ajax.googleapis.com/ajax/services/search/images?' + 'v=1.0&q='+searchTerm+'&start='+str(i*4)+'&userip=MyIP')\n",
    "    print url\n",
    "    request = urllib2.Request(url, None, {'Referer': 'testing'})\n",
    "    response = urllib2.urlopen(request)\n",
    "\n",
    "    # Get results using JSON\n",
    "    results = simplejson.load(response)\n",
    "    data = results['responseData']\n",
    "    dataInfo = data['results']\n",
    "\n",
    "    # Iterate for each result and get unescaped url\n",
    "    for myUrl in dataInfo:\n",
    "        count = count + 1\n",
    "        print myUrl['unescapedUrl']\n",
    "\n",
    "        myopener.retrieve(myUrl['unescapedUrl'],str(count)+'.jpg')\n",
    "\n",
    "    # Sleep for one second to prevent IP blocking from Google\n",
    "    time.sleep(1)"
   ]
  }
 ],
 "metadata": {
  "kernelspec": {
   "display_name": "Python 3",
   "language": "python",
   "name": "python3"
  },
  "language_info": {
   "codemirror_mode": {
    "name": "ipython",
    "version": 3
   },
   "file_extension": ".py",
   "mimetype": "text/x-python",
   "name": "python",
   "nbconvert_exporter": "python",
   "pygments_lexer": "ipython3",
   "version": "3.7.6"
  }
 },
 "nbformat": 4,
 "nbformat_minor": 2
}
