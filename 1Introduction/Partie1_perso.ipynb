{
  "nbformat": 4,
  "nbformat_minor": 0,
  "metadata": {
    "kernelspec": {
      "display_name": "Python 3",
      "language": "python",
      "name": "python3"
    },
    "language_info": {
      "codemirror_mode": {
        "name": "ipython",
        "version": 3
      },
      "file_extension": ".py",
      "mimetype": "text/x-python",
      "name": "python",
      "nbconvert_exporter": "python",
      "pygments_lexer": "ipython3",
      "version": "3.7.6"
    },
    "colab": {
      "name": "Partie1_perso.ipynb",
      "provenance": [],
      "collapsed_sections": []
    }
  },
  "cells": [
    {
      "cell_type": "code",
      "metadata": {
        "id": "_puUr6RXZP5A"
      },
      "source": [
        "import requests\n",
        "import random"
      ],
      "execution_count": 1,
      "outputs": []
    },
    {
      "cell_type": "code",
      "metadata": {
        "id": "tA9j_P41ZP5P"
      },
      "source": [
        "url = \"http://www.esiee.fr/\""
      ],
      "execution_count": 2,
      "outputs": []
    },
    {
      "cell_type": "code",
      "metadata": {
        "id": "n5ksVg1HZP5Z"
      },
      "source": [
        "class Parser():\n",
        "    \n",
        "    def __init__(self, Url, TimeOut):\n",
        "        self.Url = Url\n",
        "        self.UserAgent_list = [\n",
        "            'Mozilla/5.0 (X11; U; Linux x86_64; en-US; rv:1.7.6) Gecko/20050512 Firefox',\n",
        "            'Mozilla/5.0 (X11; U; FreeBSD i386; en-US; rv:1.7.8) Gecko/20050609 Firefox/1.0.4',\n",
        "            'Mozilla/5.0 (Windows; U; Windows NT 5.1; en-US; rv:1.7.10) Gecko/20050716 Firefox/1.0.6',\n",
        "            'Mozilla/5.0 (Macintosh; U; PPC Mac OS X Mach-O; en-US; rv:1.7.12) Gecko/20050915 Firefox/1.0.7',\n",
        "            'Mozilla/5.0 (Macintosh; Intel Mac OS X 10_10_1) AppleWebKit/537.36 (KHTML, like Gecko) Chrome/39.0.2171.95 Safari/537.36'                         \n",
        "                         ]\n",
        "        self.UserAgent = random.choice(self.UserAgent_list)\n",
        "        self.TimeOut = TimeOut\n",
        "        \n",
        "    def get(self, max_retry=3):\n",
        "        headers = {'User-Agent' : self.UserAgent}\n",
        "        if max_retry == 0:\n",
        "            return(\"La requête n'a pas abouti\")        \n",
        "        response = requests.get(self.Url, headers = headers, timeout = self.TimeOut)        \n",
        "        if response.status_code!=200:\n",
        "            response = self.get(self.Url,self.TimeOut)        \n",
        "            return(get(self,max_retry=max_retry-1))\n",
        "        return(response)\n",
        "    \n",
        "    def remove_space(string):\n",
        "        string = string.replace(' ','')\n",
        "        return(string)\n",
        "\n",
        "    def html_intell(string):\n",
        "        string = ''.join(e for e in string if e.isalnum())\n",
        "        return(string)\n",
        "\n",
        "    def get_domaine(self):\n",
        "        index = self.Url.find('//')\n",
        "        url_ = self.Url[index+2:]\n",
        "        index = url_.find('/')\n",
        "        return(url_[:index])\n",
        "    \n",
        "    def get_soup(self):\n",
        "        response = self.get(self.Url)\n",
        "        return BeautifulSoup(response.text)\n",
        "    \n",
        "    def get_title(self):\n",
        "        x = self.get_soup()\n",
        "        return(x.find_all(\"title\"))\n",
        "    \n",
        "    def get_h1(self):\n",
        "        x = self.get_soup()\n",
        "        return(x.find_all(\"h1\"))\n",
        "    \n",
        "    def get_img(self):\n",
        "        x = self.get_soup()\n",
        "        return(x.find_all(\"img\"))\n",
        "    \n",
        "    def get_liens_sortant(self):\n",
        "        x = self.get_soup()\n",
        "        return(x.find_all(\"a\"))\n",
        "    \n",
        "    def get_txt(self):\n",
        "        x = self.get_soup()\n",
        "        return(x.find_all(\"p\"))\n",
        "    \n",
        "    def get_info(self, nom_balise = None, classe = None):\n",
        "        x = self.get_soup()\n",
        "        return(x.find_all(nom_balise, class_=classe))"
      ],
      "execution_count": 3,
      "outputs": []
    },
    {
      "cell_type": "code",
      "metadata": {
        "id": "Hc1SO6SMnZ5K"
      },
      "source": [
        "def get_liens_qwant(recherche):\n",
        "  #Ne pas mettre d'accents dans la string que l'on passe en paramètre pour effectuer la recherche\n",
        "        deb = \"https://www.qwant.com/?q=\"\n",
        "        fin = \"&t=web\"\n",
        "        url = str.join('',(deb,recherche,fin))\n",
        "        scraper = Parser(url, TimeOut=10)\n",
        "        #x = scraper.get_info('div',classe = 'footer')\n",
        "        x = scraper.get_info('head')\n",
        "        return x    #je mets un return ici juste pour tester quelques méthodes sur x avant d'écrire la fin du programme\n",
        "                    # problème : le x renvoyé correspond à une page dont la langue est anglaise\n",
        "        links = []\n",
        "        for link in x :\n",
        "          links.append(link.get('href'))\n",
        "        return links"
      ],
      "execution_count": 11,
      "outputs": []
    },
    {
      "cell_type": "code",
      "metadata": {
        "id": "2fwKMZJGZP5j",
        "outputId": "39d7db25-8443-41a0-f09f-1b2e6ceb0178",
        "colab": {
          "base_uri": "https://localhost:8080/"
        }
      },
      "source": [
        "!pip install bs4\n",
        "!pip install  lxml"
      ],
      "execution_count": 5,
      "outputs": [
        {
          "output_type": "stream",
          "text": [
            "Requirement already satisfied: bs4 in /usr/local/lib/python3.6/dist-packages (0.0.1)\n",
            "Requirement already satisfied: beautifulsoup4 in /usr/local/lib/python3.6/dist-packages (from bs4) (4.6.3)\n",
            "Requirement already satisfied: lxml in /usr/local/lib/python3.6/dist-packages (4.2.6)\n"
          ],
          "name": "stdout"
        }
      ]
    },
    {
      "cell_type": "code",
      "metadata": {
        "id": "mDC6a_UIZP5x"
      },
      "source": [
        "import requests\n",
        "from bs4 import BeautifulSoup"
      ],
      "execution_count": 6,
      "outputs": []
    },
    {
      "cell_type": "code",
      "metadata": {
        "id": "XRBFgX5_oo9l",
        "outputId": "1bf3b99f-0c73-4e54-9c3d-8875226cd6f9",
        "colab": {
          "base_uri": "https://localhost:8080/"
        }
      },
      "source": [
        "x = get_liens_qwant(\"ocean\")\n",
        "print(x)"
      ],
      "execution_count": 12,
      "outputs": [
        {
          "output_type": "stream",
          "text": [
            "[<head>\n",
            "<base href=\"https://www.qwant.com\"/>\n",
            "<meta charset=\"utf-8\"/>\n",
            "<meta content=\"IE=edge\" http-equiv=\"X-UA-Compatible\"/>\n",
            "<title>Qwant</title>\n",
            "<meta content=\"#FFFFFF\" name=\"theme-color\"/>\n",
            "<meta content=\"summary_large_image\" name=\"twitter:card\"/>\n",
            "<meta content=\"@QwantCom\" name=\"twitter:site\"/>\n",
            "<meta content=\"@QwantCom\" name=\"twitter:creator\"/>\n",
            "<meta content=\"Qwant – The search engine that respects your privacy.\" name=\"twitter:title\"/>\n",
            "<meta content=\"Qwant is a search engine that respects your privacy and eases discovering and sharing via a social approach.\" name=\"twitter:description\"/>\n",
            "<meta content=\"/QWANT_Meta.png?1539938515\" name=\"twitter:image:src\"/>\n",
            "<meta content=\"https://www.qwant.com\" name=\"twitter:domain\"/>\n",
            "<meta content=\"Qwant\" id=\"meta_og_title\" property=\"og:title\"/>\n",
            "<meta content=\"Qwant\" property=\"og:site_name\"/>\n",
            "<meta content=\"https://www.qwant.com/QWANT_Meta.png?1539938515\" property=\"og:image\"/>\n",
            "<meta content=\"1000\" property=\"og:image:width\"/>\n",
            "<meta content=\"536\" property=\"og:image:height\"/>\n",
            "<meta content=\"website\" property=\"og:type\"/>\n",
            "<meta content=\"https://www.qwant.com/\" id=\"meta_og_url\" property=\"og:url\"/>\n",
            "<meta content=\"Qwant is a search engine that respects your privacy and eases discovering and sharing via a social approach.\" id=\"meta_description\" name=\"description\"/>\n",
            "<meta content=\"Qwant is a search engine that respects your privacy and eases discovering and sharing via a social approach.\" id=\"meta_og_description\" property=\"og:description\"/>\n",
            "<meta content=\"qwant search engine privacy\" id=\"meta_keywords\" name=\"keywords\"/>\n",
            "<meta content=\"Qwant\" name=\"application-name\"/>\n",
            "<meta content=\"on\" name=\"twitter:widgets:csp\"/>\n",
            "<meta content=\"width=device-width, initial-scale=1.0, user-scalable=no\" name=\"viewport\"/>\n",
            "<link href=\"css/style.css?1604927383108\" rel=\"stylesheet\"/>\n",
            "<meta content=\"index\" name=\"robots\"/>\n",
            "<link href=\"/favicon.ico?1539938515\" rel=\"shortcut icon\" type=\"image/x-icon\"/>\n",
            "<link href=\"/favicon.png?1539938515\" rel=\"icon\" type=\"image/png\"/>\n",
            "<link href=\"/favicon-32.png?1539938515\" rel=\"icon\" sizes=\"32x32\" type=\"image/png\"/>\n",
            "<link href=\"/favicon-64.png?1539938515\" rel=\"icon\" sizes=\"64x64\" type=\"image/png\"/>\n",
            "<link href=\"/favicon-96.png?1539938515\" rel=\"icon\" sizes=\"96x96\" type=\"image/png\"/>\n",
            "<link href=\"/favicon-144.png?1539938515\" rel=\"icon\" sizes=\"144x144\" type=\"image/png\"/>\n",
            "<link href=\"/favicon-152.png?1539938515\" rel=\"icon\" sizes=\"152x152\" type=\"image/png\"/>\n",
            "<link href=\"/favicon-196.png?1539938515\" rel=\"icon\" sizes=\"196x196\" type=\"image/png\"/>\n",
            "<link href=\"/apple-touch-icon.png?1539938515\" rel=\"apple-touch-icon\" sizes=\"152x152\"/>\n",
            "<link href=\"/apple-touch-icon-60x60.png?1539938515\" rel=\"apple-touch-icon\" sizes=\"60x60\"/>\n",
            "<link href=\"/apple-touch-icon-76x76.png?1539938515\" rel=\"apple-touch-icon\" sizes=\"76x76\"/>\n",
            "<link href=\"/apple-touch-icon-114x114.png?1539938515\" rel=\"apple-touch-icon\" sizes=\"114x114\"/>\n",
            "<link href=\"/apple-touch-icon-120x120.png?1539938515\" rel=\"apple-touch-icon\" sizes=\"120x120\"/>\n",
            "<link href=\"/apple-touch-icon-144x144.png?1539938515\" rel=\"apple-touch-icon\" sizes=\"144x144\"/>\n",
            "<link href=\"/favicon-152.png?1539938515\" rel=\"apple-touch-icon-precomposed\"/>\n",
            "<meta content=\"/favicon-144.png?1539938515\" name=\"msapplication-TileImage\"/>\n",
            "<meta content=\"#FFFFFF\" name=\"msapplication-TileColor\"/>\n",
            "<meta content=\"browserconfig.xml\" name=\"msapplication-config\"/>\n",
            "<meta content=\"origin\" name=\"referrer\"/>\n",
            "<link href=\"https://www.qwant.com/\" rel=\"canonical\"/>\n",
            "<link href=\"https://www.qwant.com/opensearch.xml\" rel=\"search\" title=\"Qwant\" type=\"application/opensearchdescription+xml\"/>\n",
            "<link href=\"https://chrome.google.com/webstore/detail/hnlkiofnhhoahaiimdicppgemmmomijo\" rel=\"chrome-webstore-item\"/>\n",
            "<link href=\"https://www.qwant.com/?l=fr&amp;q=montagne&amp;t=web\" hreflang=\"fr\" rel=\"alternate\"/>\n",
            "<link href=\"https://www.qwant.com/?l=en&amp;q=montagne&amp;t=web\" hreflang=\"en\" rel=\"alternate\"/>\n",
            "<link href=\"https://www.qwant.com/?l=de&amp;q=montagne&amp;t=web\" hreflang=\"de\" rel=\"alternate\"/>\n",
            "<link href=\"https://www.qwant.com/?l=it&amp;q=montagne&amp;t=web\" hreflang=\"it\" rel=\"alternate\"/>\n",
            "<link href=\"https://www.qwant.com/?l=br&amp;q=montagne&amp;t=web\" hreflang=\"br\" rel=\"alternate\"/>\n",
            "<link href=\"https://www.qwant.com/?l=ca&amp;q=montagne&amp;t=web\" hreflang=\"ca\" rel=\"alternate\"/>\n",
            "<link href=\"https://www.qwant.com/?l=co&amp;q=montagne&amp;t=web\" hreflang=\"co\" rel=\"alternate\"/>\n",
            "<link href=\"https://www.qwant.com/?l=es&amp;q=montagne&amp;t=web\" hreflang=\"es\" rel=\"alternate\"/>\n",
            "<link href=\"https://www.qwant.com/?l=eu&amp;q=montagne&amp;t=web\" hreflang=\"eu\" rel=\"alternate\"/>\n",
            "<link href=\"https://www.qwant.com/?l=nl&amp;q=montagne&amp;t=web\" hreflang=\"nl\" rel=\"alternate\"/>\n",
            "<link href=\"https://www.qwant.com/?l=pl&amp;q=montagne&amp;t=web\" hreflang=\"pl\" rel=\"alternate\"/>\n",
            "<link href=\"https://www.qwant.com/?l=pt&amp;q=montagne&amp;t=web\" hreflang=\"pt\" rel=\"alternate\"/>\n",
            "<link href=\"https://www.qwant.com/?l=ru&amp;q=montagne&amp;t=web\" hreflang=\"ru\" rel=\"alternate\"/>\n",
            "<link href=\"https://www.qwant.com/\" hreflang=\"x-default\" rel=\"alternate\"/>\n",
            "<link href=\"/manifest.json\" rel=\"manifest\"/>\n",
            "</head>]\n"
          ],
          "name": "stdout"
        }
      ]
    },
    {
      "cell_type": "code",
      "metadata": {
        "id": "6-hB5YfqC2w5",
        "outputId": "a76070d4-b68f-4be6-c1e8-025d210caf2f",
        "colab": {
          "base_uri": "https://localhost:8080/"
        }
      },
      "source": [
        "links = []\n",
        "for link in x :\n",
        "  links.append(link.find_all('a'))\n",
        "\n",
        "print(links)"
      ],
      "execution_count": null,
      "outputs": [
        {
          "output_type": "stream",
          "text": [
            "[[<a class=\"extension-item button special\" href=\"https://addons.mozilla.org/firefox/addon/qwant-lite/?src=search\" rel=\"noopener\" target=\"_blank\">Install Qwant Lite</a>, <a class=\"header_settings\" href=\"/settings/\"><span>Settings</span></a>, <a class=\"search-logo\" href=\"/\">Qwant Lite</a>, <a href=\"https://about.qwant.com/legal/privacy/\" target=\"_blank\">Privacy<!-- (en - en_gb - object) --></a>, <a href=\"https://about.qwant.com/\" target=\"_blank\">About</a>, <a href=\"https://about.qwant.com/legal/terms-of-service/qwant-search/\" target=\"_blank\">Terms of service</a>, <a href=\"https://about.qwant.com/legal/legal-notices/\" target=\"_blank\">Legal notices</a>, <a href=\"https://help.qwant.com/\" target=\"_blank\">F.A.Q.</a>, <a href=\"/games/\">Games</a>]]\n"
          ],
          "name": "stdout"
        }
      ]
    },
    {
      "cell_type": "code",
      "metadata": {
        "id": "75X-d0iLDZxs"
      },
      "source": [
        ""
      ],
      "execution_count": null,
      "outputs": []
    }
  ]
}